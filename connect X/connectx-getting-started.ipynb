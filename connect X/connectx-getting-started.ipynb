{
 "cells": [
  {
   "cell_type": "markdown",
   "metadata": {},
   "source": [
    "# Install kaggle-environments"
   ]
  },
  {
   "cell_type": "code",
   "execution_count": 1,
   "metadata": {
    "_cell_guid": "b1076dfc-b9ad-4769-8c92-a6c4dae69d19",
    "_uuid": "8f2839f25d086af736a60e9eeb907d3b93b6e0e5",
    "execution": {
     "iopub.execute_input": "2023-12-12T19:56:49.768974Z",
     "iopub.status.busy": "2023-12-12T19:56:49.768631Z",
     "iopub.status.idle": "2023-12-12T19:57:00.569535Z",
     "shell.execute_reply": "2023-12-12T19:57:00.568429Z",
     "shell.execute_reply.started": "2023-12-12T19:56:49.768925Z"
    }
   },
   "outputs": [],
   "source": [
    "# 1. Enable Internet in the Kernel (Settings side pane)\n",
    "\n",
    "# 2. Curl cache may need purged if v0.1.6 cannot be found (uncomment if needed). \n",
    "# !curl -X PURGE https://pypi.org/simple/kaggle-environments\n",
    "\n",
    "# ConnectX environment was defined in v0.1.6\n",
    "!pip install 'kaggle-environments==0.1.6' > /dev/null 2>&1\n"
   ]
  },
  {
   "cell_type": "markdown",
   "metadata": {},
   "source": [
    "# Create ConnectX Environment"
   ]
  },
  {
   "cell_type": "code",
   "execution_count": 2,
   "metadata": {
    "execution": {
     "iopub.execute_input": "2023-12-12T19:57:00.572150Z",
     "iopub.status.busy": "2023-12-12T19:57:00.571724Z",
     "iopub.status.idle": "2023-12-12T19:57:00.647240Z",
     "shell.execute_reply": "2023-12-12T19:57:00.646328Z",
     "shell.execute_reply.started": "2023-12-12T19:57:00.572061Z"
    }
   },
   "outputs": [],
   "source": [
    "import numpy as np\n",
    "import gym\n",
    "import random\n",
    "import matplotlib.pyplot as plt\n",
    "from random import choice\n",
    "from tqdm.notebook import tqdm\n",
    "from collections import defaultdict\n",
    "\n"
   ]
  },
  {
   "cell_type": "code",
   "execution_count": 3,
   "metadata": {
    "_cell_guid": "79c7e3d0-c299-4dcb-8224-4455121ee9b0",
    "_uuid": "d629ff2d2480ee46fbb7e2d37f6b5fab8052498a",
    "execution": {
     "iopub.execute_input": "2023-12-12T19:57:11.409704Z",
     "iopub.status.busy": "2023-12-12T19:57:11.409032Z",
     "iopub.status.idle": "2023-12-12T19:57:11.535679Z",
     "shell.execute_reply": "2023-12-12T19:57:11.534387Z",
     "shell.execute_reply.started": "2023-12-12T19:57:11.409622Z"
    }
   },
   "outputs": [
    {
     "name": "stdout",
     "output_type": "stream",
     "text": [
      "+---+---+---+---+---+---+---+\n",
      "| 0 | 0 | 0 | 0 | 0 | 0 | 0 |\n",
      "+---+---+---+---+---+---+---+\n",
      "| 0 | 0 | 0 | 0 | 0 | 0 | 0 |\n",
      "+---+---+---+---+---+---+---+\n",
      "| 0 | 0 | 0 | 0 | 0 | 0 | 0 |\n",
      "+---+---+---+---+---+---+---+\n",
      "| 0 | 0 | 0 | 0 | 0 | 0 | 0 |\n",
      "+---+---+---+---+---+---+---+\n",
      "| 0 | 0 | 0 | 0 | 0 | 0 | 0 |\n",
      "+---+---+---+---+---+---+---+\n",
      "| 0 | 0 | 0 | 0 | 0 | 0 | 0 |\n",
      "+---+---+---+---+---+---+---+\n",
      "\n"
     ]
    }
   ],
   "source": [
    "from kaggle_environments import evaluate, make, utils\n",
    "\n",
    "env = make(\"connectx\", debug=True)\n",
    "env.render()"
   ]
  },
  {
   "cell_type": "code",
   "execution_count": 4,
   "metadata": {
    "execution": {
     "iopub.execute_input": "2023-12-11T11:05:30.784654Z",
     "iopub.status.busy": "2023-12-11T11:05:30.784088Z",
     "iopub.status.idle": "2023-12-11T11:05:30.788541Z",
     "shell.execute_reply": "2023-12-11T11:05:30.787866Z",
     "shell.execute_reply.started": "2023-12-11T11:05:30.784569Z"
    }
   },
   "outputs": [],
   "source": [
    "config = env.configuration"
   ]
  },
  {
   "cell_type": "code",
   "execution_count": 5,
   "metadata": {
    "execution": {
     "iopub.execute_input": "2023-12-12T19:58:45.582324Z",
     "iopub.status.busy": "2023-12-12T19:58:45.581863Z",
     "iopub.status.idle": "2023-12-12T19:58:45.596468Z",
     "shell.execute_reply": "2023-12-12T19:58:45.595345Z",
     "shell.execute_reply.started": "2023-12-12T19:58:45.582242Z"
    }
   },
   "outputs": [],
   "source": [
    "class ConnectX(gym.Env):\n",
    "    def __init__(self, switch_prob=0.5):\n",
    "        self.env = make('connectx', debug=True)\n",
    "        self.pair = [None, 'negamax']\n",
    "        self.trainer = self.env.train(self.pair)\n",
    "        self.switch_prob = switch_prob\n",
    "        \n",
    "        # Define required gym fields (examples):\n",
    "        config = self.env.configuration\n",
    "        self.action_space = gym.spaces.Discrete(config.columns)\n",
    "        self.observation_space = gym.spaces.Discrete(config.columns * config.rows)\n",
    "\n",
    "    def switch_trainer(self):\n",
    "        self.pair = self.pair[::-1]\n",
    "        self.trainer = self.env.train(self.pair)\n",
    "\n",
    "    def step(self, action):\n",
    "        return self.trainer.step(action)\n",
    "    \n",
    "    def reset(self):\n",
    "        if random.uniform(0, 1) < self.switch_prob:\n",
    "            self.switch_trainer()\n",
    "        return self.trainer.reset()\n",
    "    \n",
    "    def render(self, **kwargs):\n",
    "        return self.env.render(**kwargs)"
   ]
  },
  {
   "cell_type": "code",
   "execution_count": 6,
   "metadata": {
    "execution": {
     "iopub.execute_input": "2023-12-12T19:57:16.257446Z",
     "iopub.status.busy": "2023-12-12T19:57:16.256861Z",
     "iopub.status.idle": "2023-12-12T19:57:16.268482Z",
     "shell.execute_reply": "2023-12-12T19:57:16.267232Z",
     "shell.execute_reply.started": "2023-12-12T19:57:16.257347Z"
    }
   },
   "outputs": [],
   "source": [
    "class QTable:\n",
    "    def __init__(self, action_space):\n",
    "        self.table = dict()\n",
    "        self.action_space = action_space\n",
    "        \n",
    "    def add_item(self, state_key):\n",
    "        self.table[state_key] = list(np.zeros(self.action_space.n))\n",
    "        \n",
    "    def __call__(self, state):\n",
    "        board = state.board[:] # Get a copy\n",
    "        board.append(state.mark)\n",
    "        state_key = np.array(board).astype(str)\n",
    "        state_key = hex(int(''.join(state_key), 3))[2:]\n",
    "        if state_key not in self.table.keys():\n",
    "            self.add_item(state_key)\n",
    "        \n",
    "        return self.table[state_key]\n",
    "\n"
   ]
  },
  {
   "cell_type": "code",
   "execution_count": 7,
   "metadata": {
    "execution": {
     "iopub.execute_input": "2023-12-12T19:59:37.421514Z",
     "iopub.status.busy": "2023-12-12T19:59:37.421100Z",
     "iopub.status.idle": "2023-12-12T19:59:37.428509Z",
     "shell.execute_reply": "2023-12-12T19:59:37.427280Z",
     "shell.execute_reply.started": "2023-12-12T19:59:37.421458Z"
    }
   },
   "outputs": [],
   "source": [
    "def print_board(board):\n",
    "    for i in range(6):\n",
    "        print(board[7*i:7*(i+1)])"
   ]
  },
  {
   "cell_type": "code",
   "execution_count": 8,
   "metadata": {
    "execution": {
     "iopub.execute_input": "2023-12-12T19:59:39.825456Z",
     "iopub.status.busy": "2023-12-12T19:59:39.825023Z",
     "iopub.status.idle": "2023-12-12T19:59:41.271679Z",
     "shell.execute_reply": "2023-12-12T19:59:41.270405Z",
     "shell.execute_reply.started": "2023-12-12T19:59:39.825385Z"
    }
   },
   "outputs": [
    {
     "name": "stdout",
     "output_type": "stream",
     "text": [
      "[0, 0, 0, 0, 0, 0, 0]\n",
      "[0, 0, 0, 0, 0, 0, 0]\n",
      "[0, 0, 0, 0, 0, 0, 0]\n",
      "[0, 0, 0, 0, 0, 0, 0]\n",
      "[2, 0, 0, 0, 0, 0, 0]\n",
      "[1, 0, 0, 0, 0, 0, 0]\n"
     ]
    }
   ],
   "source": [
    "env = ConnectX()\n",
    "state = env.reset()\n",
    "state, _, _, _ = env.step(0)\n",
    "print_board(state.board)"
   ]
  },
  {
   "cell_type": "code",
   "execution_count": null,
   "metadata": {},
   "outputs": [],
   "source": []
  },
  {
   "cell_type": "code",
   "execution_count": 9,
   "metadata": {
    "execution": {
     "iopub.execute_input": "2023-12-11T11:05:39.592063Z",
     "iopub.status.busy": "2023-12-11T11:05:39.591661Z",
     "iopub.status.idle": "2023-12-11T11:05:39.597741Z",
     "shell.execute_reply": "2023-12-11T11:05:39.596816Z",
     "shell.execute_reply.started": "2023-12-11T11:05:39.592002Z"
    }
   },
   "outputs": [],
   "source": [
    "board = state.board[:] # Get a copy\n",
    "board.append(state.mark)\n",
    "state_key = np.array(board).astype(str)\n",
    "state_key = hex(int(''.join(state_key), 3))[2:]\n",
    "# state.mark\n"
   ]
  },
  {
   "cell_type": "code",
   "execution_count": 10,
   "metadata": {
    "execution": {
     "iopub.execute_input": "2023-12-11T11:05:40.767965Z",
     "iopub.status.busy": "2023-12-11T11:05:40.767567Z",
     "iopub.status.idle": "2023-12-11T11:05:40.772077Z",
     "shell.execute_reply": "2023-12-11T11:05:40.771170Z",
     "shell.execute_reply.started": "2023-12-11T11:05:40.767899Z"
    }
   },
   "outputs": [],
   "source": [
    "q_table = QTable(env.action_space)\n"
   ]
  },
  {
   "cell_type": "code",
   "execution_count": 11,
   "metadata": {
    "execution": {
     "iopub.execute_input": "2023-12-11T11:05:42.255964Z",
     "iopub.status.busy": "2023-12-11T11:05:42.255649Z",
     "iopub.status.idle": "2023-12-11T11:05:42.529823Z",
     "shell.execute_reply": "2023-12-11T11:05:42.528917Z",
     "shell.execute_reply.started": "2023-12-11T11:05:42.255924Z"
    }
   },
   "outputs": [
    {
     "data": {
      "text/plain": [
       "[0.0, 0.0, 0.0, 0.0, 0.0, 0.0, 0.0]"
      ]
     },
     "execution_count": 11,
     "metadata": {},
     "output_type": "execute_result"
    }
   ],
   "source": [
    "state = env.reset()\n",
    "action = choice([c for c in range(env.action_space.n) if state.board[c] == 0])\n",
    "next_state, _, _, _ = env.step(action)\n",
    "q_table(next_state)"
   ]
  },
  {
   "cell_type": "code",
   "execution_count": 12,
   "metadata": {
    "execution": {
     "iopub.execute_input": "2023-12-11T11:05:46.389934Z",
     "iopub.status.busy": "2023-12-11T11:05:46.389264Z",
     "iopub.status.idle": "2023-12-11T11:05:46.395083Z",
     "shell.execute_reply": "2023-12-11T11:05:46.394437Z",
     "shell.execute_reply.started": "2023-12-11T11:05:46.389682Z"
    }
   },
   "outputs": [
    {
     "data": {
      "text/plain": [
       "7"
      ]
     },
     "execution_count": 12,
     "metadata": {},
     "output_type": "execute_result"
    }
   ],
   "source": [
    "env.action_space.n"
   ]
  },
  {
   "cell_type": "code",
   "execution_count": 13,
   "metadata": {
    "execution": {
     "iopub.execute_input": "2023-12-12T19:57:20.157585Z",
     "iopub.status.busy": "2023-12-12T19:57:20.156980Z",
     "iopub.status.idle": "2023-12-12T19:57:20.164595Z",
     "shell.execute_reply": "2023-12-12T19:57:20.163232Z",
     "shell.execute_reply.started": "2023-12-12T19:57:20.157510Z"
    }
   },
   "outputs": [],
   "source": [
    "def state_key(state):\n",
    "    board = state.board[:] # Get a copy\n",
    "    board.append(state.mark)\n",
    "    state_key = np.array(board).astype(str)\n",
    "    state_key = hex(int(''.join(state_key), 3))[2:]\n",
    "    return state_key"
   ]
  },
  {
   "cell_type": "code",
   "execution_count": 14,
   "metadata": {
    "execution": {
     "iopub.execute_input": "2023-12-12T19:57:23.009982Z",
     "iopub.status.busy": "2023-12-12T19:57:23.009240Z",
     "iopub.status.idle": "2023-12-12T19:57:23.037647Z",
     "shell.execute_reply": "2023-12-12T19:57:23.036444Z",
     "shell.execute_reply.started": "2023-12-12T19:57:23.009902Z"
    }
   },
   "outputs": [],
   "source": [
    "class Q_learn:\n",
    "    def __init__(self, lr, discount, eps, env):\n",
    "        self.lr = lr\n",
    "        self.discount = discount\n",
    "        self.eps = eps\n",
    "        self.env = env\n",
    "        self.Q_table = defaultdict(lambda: defaultdict(lambda: 0))  \n",
    "\n",
    "    def get_Q_value(self, state, action):\n",
    "        return self.Q_table[state_key(state)][action]\n",
    "    \n",
    "    def set_Q_value(self, state, action, value):\n",
    "        self.Q_table[state_key(state)][action] = value\n",
    "        \n",
    "    def best_value(self, state):\n",
    "        possible_actions = [action for action in range(self.env.action_space.n) if state.board[action] == 0]\n",
    "        try:\n",
    "            return max([self.get_Q_value(state, action) for action in possible_actions])\n",
    "        except:\n",
    "            return -np.inf\n",
    "    \n",
    "    def best_action(self, state):\n",
    "        row = [0, 1, 2, 3, 4, 5, 6]\n",
    "        selected_items = []\n",
    "        for j in range(self.env.action_space.n):\n",
    "            if state.board[j] == 0:\n",
    "                selected_items.append(row[j])\n",
    "            else:\n",
    "                selected_items.append(-1e7)\n",
    "        action = int(np.argmax(selected_items))\n",
    "        return action\n",
    "    \n",
    "    def do_action(self, state):\n",
    "        possible_actions = [action for action in range(self.env.action_space.n) if state.board[action] == 0]\n",
    "        \n",
    "        if random.uniform(0, 1) < self.eps:\n",
    "            action = choice([c for c in range(self.env.action_space.n) if state.board[c] == 0])\n",
    "        else:\n",
    "            action = self.best_action(state)\n",
    "        return action\n",
    "    \n",
    "    def update_Q(self, state, action, next_state, reward):\n",
    "        grad = self.lr * (reward + self.discount * self.best_value(next_state) \\\n",
    "                           - self.get_Q_value(state, action))\n",
    "        current_Q = self.get_Q_value(state, action)\n",
    "        self.set_Q_value(state, action, current_Q + grad)\n"
   ]
  },
  {
   "cell_type": "code",
   "execution_count": 16,
   "metadata": {
    "execution": {
     "iopub.execute_input": "2023-12-12T20:31:26.048648Z",
     "iopub.status.busy": "2023-12-12T20:31:26.047967Z",
     "iopub.status.idle": "2023-12-12T20:31:26.064146Z",
     "shell.execute_reply": "2023-12-12T20:31:26.063186Z",
     "shell.execute_reply.started": "2023-12-12T20:31:26.048310Z"
    }
   },
   "outputs": [],
   "source": [
    "def array_to_string(array):\n",
    "        return ''.join([str(i) for i in array])\n",
    "\n",
    "def check_reward(string, string_opn, mark):\n",
    "    if 4*str(mark) in string:\n",
    "        reward = 30\n",
    "    else:\n",
    "        if 4*str(3-mark) in string_opn:\n",
    "            reward = 20\n",
    "        else:\n",
    "            if ('0'+str(mark)*3) in string or (str(mark)*3+'0') in string or \\\n",
    "            (str(mark)*2+'0'+str(mark)) in string or (str(mark)+'0'+str(mark)*2) in string:\n",
    "                reward = 10\n",
    "            else:\n",
    "                if ('0'+str(mark)*3) in string_opn or (str(mark)*3+'0') in string_opn or \\\n",
    "                (str(mark)*2+'0'+str(mark)) in string_opn or (str(mark)+'0'+str(mark)*2) in string_opn:\n",
    "                    reward = 0\n",
    "                else:\n",
    "                    if ('00'+str(mark)*2) in string or (str(mark)*2+'00') in string:\n",
    "                        reward = -10\n",
    "                    else:\n",
    "                        reward = -20\n",
    "\n",
    "    return reward\n"
   ]
  },
  {
   "cell_type": "code",
   "execution_count": 17,
   "metadata": {
    "execution": {
     "iopub.execute_input": "2023-12-12T19:57:25.622657Z",
     "iopub.status.busy": "2023-12-12T19:57:25.622082Z",
     "iopub.status.idle": "2023-12-12T19:57:25.662239Z",
     "shell.execute_reply": "2023-12-12T19:57:25.660792Z",
     "shell.execute_reply.started": "2023-12-12T19:57:25.622409Z"
    }
   },
   "outputs": [],
   "source": [
    "def reward_calculate(board, action):\n",
    "    mark = board[42:][0]\n",
    "    state = np.array(board[:42]).reshape(6, -1)\n",
    "    state_opn = state.copy()\n",
    "    assert action in range(7)\n",
    "    assert np.count_nonzero(state[:, action]) < 6\n",
    "    \n",
    "    for row in range(6)[::-1]:\n",
    "        if state[row, action] == 0:\n",
    "            valid_row = row\n",
    "            state[row, action] = mark\n",
    "            break  \n",
    "\n",
    "    state_opn[valid_row, action] = 3-mark\n",
    "\n",
    "    #check vertical\n",
    "    vertical = state[:, action]\n",
    "    vertical_self = array_to_string(vertical)\n",
    "    vertical_opn = vertical_self[:valid_row] + str(3-mark) + vertical_self[valid_row+1:]\n",
    "    vertical_reward = check_reward(vertical_self, vertical_opn, mark)\n",
    "\n",
    "    #check horizontal\n",
    "    horizontal = state[valid_row, :]\n",
    "    horizontal_self = array_to_string(horizontal)\n",
    "    horizontal_opn = horizontal_self[:action] + str(3-mark) + horizontal_self[action+1:]\n",
    "    horizontal_reward = check_reward(horizontal_self, horizontal_opn, mark)\n",
    "\n",
    "    #check left diagonal\n",
    "    if action - valid_row >= 0:\n",
    "        left_self = array_to_string(state[:, action-valid_row:].diagonal(0))\n",
    "        if len(left_self) < 4:\n",
    "            left_reward = -30\n",
    "        else:\n",
    "            left_opn = array_to_string(state_opn[:, action-valid_row:].diagonal(0))\n",
    "            left_reward = check_reward(left_self, left_opn, mark)\n",
    "    else:\n",
    "        left_self = array_to_string(state[valid_row-action:,:].diagonal(0))\n",
    "        if len(left_self) < 4:\n",
    "            left_reward = -30\n",
    "        else:\n",
    "            left_opn = array_to_string(state_opn[:, action-valid_row+1:].diagonal(0))\n",
    "            left_reward = check_reward(left_self, left_opn, mark)\n",
    "\n",
    "    #check right diagonal        \n",
    "    if action + valid_row < 7:\n",
    "        right_self = array_to_string(state[:, :action+valid_row+1][:, ::-1].diagonal(0))\n",
    "        if len(right_self) < 4:\n",
    "            right_reward = -30\n",
    "        else:\n",
    "            right_opn = array_to_string(state_opn[:, :action+valid_row+1][:, ::-1].diagonal(0))\n",
    "            right_reward = check_reward(right_self, right_opn, mark)\n",
    "    else:\n",
    "        right_self = array_to_string(state[action+valid_row-6:, :][:, ::-1].diagonal(0))\n",
    "        if len(right_self) < 4:\n",
    "            right_reward = -30\n",
    "        else:\n",
    "            right_opn = array_to_string(state_opn[action+valid_row-6:, :][:, ::-1].diagonal(0))\n",
    "            right_reward = check_reward(right_self, right_opn, mark)\n",
    "    \n",
    "    reward = max(vertical_reward, horizontal_reward, left_reward, right_reward)\n",
    "    \n",
    "    # check if next move opponent won\n",
    "    if reward < 20:\n",
    "        if (state[:, action] == 0).any():\n",
    "            valid_row -= 1\n",
    "            state_opt_next = state.copy()\n",
    "            state_opt_next[valid_row, action] = 3-mark\n",
    "\n",
    "            #check horizontal\n",
    "            horizontal = array_to_string(state_opt_next[valid_row, :])\n",
    "            if 4*str(3-mark) in horizontal:\n",
    "                return -50\n",
    "\n",
    "            #check left diagonal\n",
    "            if action - valid_row >= 0:\n",
    "                left_self = array_to_string(state_opt_next[:, action-valid_row:].diagonal(0))\n",
    "            else:\n",
    "                left_self = array_to_string(state_opt_next[valid_row-action:,:].diagonal(0))            \n",
    "            if 4*str(3-mark) in left_self:\n",
    "                return -50\n",
    "\n",
    "            #check right diagonal\n",
    "            if action + valid_row < 7:\n",
    "                right_self = array_to_string(state_opt_next[:, :action+valid_row+1][:, ::-1].diagonal(0))\n",
    "            else:\n",
    "                right_self = array_to_string(state_opt_next[action+valid_row-6:, :][:, ::-1].diagonal(0))\n",
    "            if 4*str(3-mark) in right_self:\n",
    "                return -50\n",
    "        \n",
    "    return reward"
   ]
  },
  {
   "cell_type": "code",
   "execution_count": 19,
   "metadata": {
    "execution": {
     "iopub.execute_input": "2023-12-12T20:31:50.313399Z",
     "iopub.status.busy": "2023-12-12T20:31:50.312810Z"
    }
   },
   "outputs": [
    {
     "data": {
      "application/vnd.jupyter.widget-view+json": {
       "model_id": "ad788256649d4d92a5b13e9a58e2a4fe",
       "version_major": 2,
       "version_minor": 0
      },
      "text/plain": [
       "HBox(children=(IntProgress(value=0, max=10000), HTML(value='')))"
      ]
     },
     "metadata": {},
     "output_type": "display_data"
    },
    {
     "name": "stdout",
     "output_type": "stream",
     "text": [
      "\n"
     ]
    }
   ],
   "source": [
    "env = ConnectX()\n",
    "q_learn = Q_learn(0.1, 0.9, 0.99, env)\n",
    "alpha = 0.1\n",
    "gamma = 0.9\n",
    "epsilon = 0.99\n",
    "min_epsilon = 0.1\n",
    "\n",
    "episodes = 10000\n",
    "\n",
    "alpha_decay_step = 1000\n",
    "alpha_decay_rate = 0.9\n",
    "epsilon_decay_rate = 0.9999\n",
    "\n",
    "\n",
    "all_epochs = []\n",
    "all_total_rewards = []\n",
    "all_avg_rewards = [] # Last 100 steps\n",
    "all_qtable_rows = []\n",
    "all_epsilons = []\n",
    "\n",
    "for i in tqdm(range(episodes)):\n",
    "    state = env.reset()\n",
    "    \n",
    "    q_learn.eps = max(min_epsilon, q_learn.eps * epsilon_decay_rate)\n",
    "    epochs, total_rewards = 0, 0\n",
    "    done = False\n",
    "    \n",
    "    while not done:\n",
    "        \n",
    "        action = q_learn.do_action(state)\n",
    "        \n",
    "        next_state, reward, done, info = env.step(int(action))\n",
    "        possible_actions = [action for action in range(env.action_space.n) if state.board[action] == 0]\n",
    "        if len(possible_actions) == 0:\n",
    "            break\n",
    "\n",
    "        # Apply new rules\n",
    "        board = state.board\n",
    "        board.append(state.mark)\n",
    "        reward = reward_calculate(state.board, action)\n",
    "            \n",
    "        q_learn.update_Q(state, action, next_state, reward)\n",
    "\n",
    "        state = next_state\n",
    "        epochs += 1\n",
    "        total_rewards += reward\n",
    "\n",
    "\n",
    "    all_epochs.append(epochs)\n",
    "    all_total_rewards.append(total_rewards)\n",
    "    avg_rewards = np.mean(all_total_rewards[max(0, i-100):(i+1)])\n",
    "    all_avg_rewards.append(avg_rewards)\n",
    "    all_epsilons.append(epsilon)\n",
    "\n",
    "    if (i+1) % alpha_decay_step == 0:\n",
    "        alpha *= alpha_decay_rate\n"
   ]
  },
  {
   "cell_type": "code",
   "execution_count": 20,
   "metadata": {
    "execution": {
     "iopub.execute_input": "2023-12-11T11:10:23.261618Z",
     "iopub.status.busy": "2023-12-11T11:10:23.261126Z",
     "iopub.status.idle": "2023-12-11T11:10:23.535248Z",
     "shell.execute_reply": "2023-12-11T11:10:23.534106Z",
     "shell.execute_reply.started": "2023-12-11T11:10:23.261528Z"
    }
   },
   "outputs": [
    {
     "data": {
      "image/png": "[encoded data removed]",
      "text/plain": [
       "<Figure size 432x288 with 1 Axes>"
      ]
     },
     "metadata": {
      "needs_background": "light"
     },
     "output_type": "display_data"
    }
   ],
   "source": [
    "plt.plot(all_avg_rewards)\n",
    "plt.xlabel('Episode')\n",
    "plt.ylabel('Avg rewards (100)')\n",
    "plt.show()\n"
   ]
  },
  {
   "cell_type": "code",
   "execution_count": 21,
   "metadata": {
    "execution": {
     "iopub.execute_input": "2023-12-11T11:10:25.868346Z",
     "iopub.status.busy": "2023-12-11T11:10:25.868017Z",
     "iopub.status.idle": "2023-12-11T11:10:26.155382Z",
     "shell.execute_reply": "2023-12-11T11:10:26.154157Z",
     "shell.execute_reply.started": "2023-12-11T11:10:25.868303Z"
    }
   },
   "outputs": [
    {
     "data": {
      "image/png": "[encoded data removed]",
      "text/plain": [
       "<Figure size 432x288 with 1 Axes>"
      ]
     },
     "metadata": {
      "needs_background": "light"
     },
     "output_type": "display_data"
    }
   ],
   "source": [
    "plt.plot(all_epsilons)\n",
    "plt.xlabel('Episode')\n",
    "plt.ylabel('Epsilon')\n",
    "plt.show()\n"
   ]
  },
  {
   "cell_type": "code",
   "execution_count": 22,
   "metadata": {
    "execution": {
     "iopub.execute_input": "2023-12-11T11:11:04.032846Z",
     "iopub.status.busy": "2023-12-11T11:11:04.032130Z",
     "iopub.status.idle": "2023-12-11T11:11:04.045206Z",
     "shell.execute_reply": "2023-12-11T11:11:04.044016Z",
     "shell.execute_reply.started": "2023-12-11T11:11:04.032781Z"
    }
   },
   "outputs": [],
   "source": [
    "tmp_dict_q_table = q_learn.Q_table.copy()\n",
    "dict_q_table = dict()\n",
    "\n",
    "for k in tmp_dict_q_table:\n",
    "    if np.count_nonzero(tmp_dict_q_table[k]) > 0:\n",
    "        dict_q_table[k] = int(np.argmax(tmp_dict_q_table[k]))\n"
   ]
  },
  {
   "cell_type": "code",
   "execution_count": 23,
   "metadata": {
    "execution": {
     "iopub.execute_input": "2023-12-11T11:19:35.425316Z",
     "iopub.status.busy": "2023-12-11T11:19:35.424878Z",
     "iopub.status.idle": "2023-12-11T11:19:35.431245Z",
     "shell.execute_reply": "2023-12-11T11:19:35.429638Z",
     "shell.execute_reply.started": "2023-12-11T11:19:35.425246Z"
    }
   },
   "outputs": [],
   "source": [
    "my_agent = '''def my_agent(observation, configuration):\n",
    "    from random import choice\n",
    "\n",
    "    q_table = ''' \\\n",
    "    + str(dict_q_table).replace(' ', '') \\\n",
    "    + '''\n",
    "\n",
    "    board = observation.board[:]\n",
    "    board.append(observation.mark)\n",
    "    state_key = list(map(str, board))\n",
    "    state_key = hex(int(''.join(state_key), 3))[2:]\n",
    "\n",
    "    if state_key not in q_table.keys():\n",
    "        return choice([c for c in range(configuration.columns) if observation.board[c] == 0])\n",
    "\n",
    "    action = q_table[state_key]\n",
    "\n",
    "    if observation.board[action] != 0:\n",
    "        return choice([c for c in range(configuration.columns) if observation.board[c] == 0])\n",
    "\n",
    "    return action\n",
    "    '''\n"
   ]
  },
  {
   "cell_type": "code",
   "execution_count": 24,
   "metadata": {
    "execution": {
     "iopub.execute_input": "2023-12-11T11:19:51.609587Z",
     "iopub.status.busy": "2023-12-11T11:19:51.609234Z",
     "iopub.status.idle": "2023-12-11T11:19:51.614951Z",
     "shell.execute_reply": "2023-12-11T11:19:51.613912Z",
     "shell.execute_reply.started": "2023-12-11T11:19:51.609533Z"
    }
   },
   "outputs": [],
   "source": [
    "with open('submission.py', 'w') as f:\n",
    "    f.write(my_agent)"
   ]
  },
  {
   "cell_type": "markdown",
   "metadata": {},
   "source": [
    "# Validate Submission\n",
    "Play your submission against itself.  This is the first episode the competition will run to weed out erroneous agents.\n",
    "\n",
    "Why validate? This roughly verifies that your submission is fully encapsulated and can be run remotely."
   ]
  },
  {
   "cell_type": "code",
   "execution_count": 25,
   "metadata": {
    "execution": {
     "iopub.execute_input": "2023-12-11T11:19:58.113687Z",
     "iopub.status.busy": "2023-12-11T11:19:58.113342Z",
     "iopub.status.idle": "2023-12-11T11:19:58.171712Z",
     "shell.execute_reply": "2023-12-11T11:19:58.170566Z",
     "shell.execute_reply.started": "2023-12-11T11:19:58.113635Z"
    }
   },
   "outputs": [
    {
     "name": "stdout",
     "output_type": "stream",
     "text": [
      "Success!\n"
     ]
    }
   ],
   "source": [
    "# Note: Stdout replacement is a temporary workaround.\n",
    "import sys\n",
    "out = sys.stdout\n",
    "submission = utils.read_file(\"/kaggle/working/submission.py\")\n",
    "agent = utils.get_last_callable(submission)\n",
    "sys.stdout = out\n",
    "\n",
    "env = make(\"connectx\", debug=True)\n",
    "env.run([agent, agent])\n",
    "print(\"Success!\" if env.state[0].status == env.state[1].status == \"DONE\" else \"Failed...\")"
   ]
  },
  {
   "cell_type": "markdown",
   "metadata": {},
   "source": [
    "# Submit to Competition\n",
    "\n",
    "1. Commit this kernel.\n",
    "2. View the commited version.\n",
    "3. Go to \"Data\" section and find submission.py file.\n",
    "4. Click \"Submit to Competition\"\n",
    "5. Go to [My Submissions](https://kaggle.com/c/connectx/submissions) to view your score and episodes being played."
   ]
  }
 ],
 "metadata": {
  "kaggle": {
   "accelerator": "none",
   "dataSources": [
    {
     "databundleVersionId": 899221,
     "sourceId": 17592,
     "sourceType": "competition"
    }
   ],
   "dockerImageVersionId": 29844,
   "isGpuEnabled": false,
   "isInternetEnabled": true,
   "language": "python",
   "sourceType": "notebook"
  },
  "kernelspec": {
   "display_name": "Python 3",
   "language": "python",
   "name": "python3"
  },
  "language_info": {
   "codemirror_mode": {
    "name": "ipython",
    "version": 3
   },
   "file_extension": ".py",
   "mimetype": "text/x-python",
   "name": "python",
   "nbconvert_exporter": "python",
   "pygments_lexer": "ipython3",
   "version": "3.6.6"
  },
  "widgets": {
   "application/vnd.jupyter.widget-state+json": {
    "state": {
     "034f74cae42f4ca9bbebe47c61943137": {
      "model_module": "@jupyter-widgets/controls",
      "model_module_version": "1.5.0",
      "model_name": "IntProgressModel",
      "state": {
       "_dom_classes": [],
       "_model_module": "@jupyter-widgets/controls",
       "_model_module_version": "1.5.0",
       "_model_name": "IntProgressModel",
       "_view_count": null,
       "_view_module": "@jupyter-widgets/controls",
       "_view_module_version": "1.5.0",
       "_view_name": "ProgressView",
       "bar_style": "success",
       "description": "100%",
       "description_tooltip": null,
       "layout": "IPY_MODEL_c6cab217ec8745c7a8150fa7cf94abca",
       "max": 10000,
       "min": 0,
       "orientation": "horizontal",
       "style": "IPY_MODEL_bf714462a50b49a58733867433f6244c",
       "value": 10000
      }
     },
     "1a75aabe8c054df5a4df6883df39bf11": {
      "model_module": "@jupyter-widgets/controls",
      "model_module_version": "1.5.0",
      "model_name": "HTMLModel",
      "state": {
       "_dom_classes": [],
       "_model_module": "@jupyter-widgets/controls",
       "_model_module_version": "1.5.0",
       "_model_name": "HTMLModel",
       "_view_count": null,
       "_view_module": "@jupyter-widgets/controls",
       "_view_module_version": "1.5.0",
       "_view_name": "HTMLView",
       "description": "",
       "description_tooltip": null,
       "layout": "IPY_MODEL_ecd11f2fd0784d5c963a4cb4401b2d46",
       "placeholder": "​",
       "style": "IPY_MODEL_e667f9dfbcc0493b9152ab85804db070",
       "value": " 10000/10000 [3:53:27&lt;00:00,  1.40s/it]"
      }
     },
     "56cff5ee2716451a81408820a2b9386e": {
      "model_module": "@jupyter-widgets/base",
      "model_module_version": "1.2.0",
      "model_name": "LayoutModel",
      "state": {
       "_model_module": "@jupyter-widgets/base",
       "_model_module_version": "1.2.0",
       "_model_name": "LayoutModel",
       "_view_count": null,
       "_view_module": "@jupyter-widgets/base",
       "_view_module_version": "1.2.0",
       "_view_name": "LayoutView",
       "align_content": null,
       "align_items": null,
       "align_self": null,
       "border": null,
       "bottom": null,
       "display": null,
       "flex": null,
       "flex_flow": null,
       "grid_area": null,
       "grid_auto_columns": null,
       "grid_auto_flow": null,
       "grid_auto_rows": null,
       "grid_column": null,
       "grid_gap": null,
       "grid_row": null,
       "grid_template_areas": null,
       "grid_template_columns": null,
       "grid_template_rows": null,
       "height": null,
       "justify_content": null,
       "justify_items": null,
       "left": null,
       "margin": null,
       "max_height": null,
       "max_width": null,
       "min_height": null,
       "min_width": null,
       "object_fit": null,
       "object_position": null,
       "order": null,
       "overflow": null,
       "overflow_x": null,
       "overflow_y": null,
       "padding": null,
       "right": null,
       "top": null,
       "visibility": null,
       "width": null
      }
     },
     "ad788256649d4d92a5b13e9a58e2a4fe": {
      "model_module": "@jupyter-widgets/controls",
      "model_module_version": "1.5.0",
      "model_name": "HBoxModel",
      "state": {
       "_dom_classes": [],
       "_model_module": "@jupyter-widgets/controls",
       "_model_module_version": "1.5.0",
       "_model_name": "HBoxModel",
       "_view_count": null,
       "_view_module": "@jupyter-widgets/controls",
       "_view_module_version": "1.5.0",
       "_view_name": "HBoxView",
       "box_style": "",
       "children": [
        "IPY_MODEL_034f74cae42f4ca9bbebe47c61943137",
        "IPY_MODEL_1a75aabe8c054df5a4df6883df39bf11"
       ],
       "layout": "IPY_MODEL_56cff5ee2716451a81408820a2b9386e"
      }
     },
     "bf714462a50b49a58733867433f6244c": {
      "model_module": "@jupyter-widgets/controls",
      "model_module_version": "1.5.0",
      "model_name": "ProgressStyleModel",
      "state": {
       "_model_module": "@jupyter-widgets/controls",
       "_model_module_version": "1.5.0",
       "_model_name": "ProgressStyleModel",
       "_view_count": null,
       "_view_module": "@jupyter-widgets/base",
       "_view_module_version": "1.2.0",
       "_view_name": "StyleView",
       "bar_color": null,
       "description_width": "initial"
      }
     },
     "c6cab217ec8745c7a8150fa7cf94abca": {
      "model_module": "@jupyter-widgets/base",
      "model_module_version": "1.2.0",
      "model_name": "LayoutModel",
      "state": {
       "_model_module": "@jupyter-widgets/base",
       "_model_module_version": "1.2.0",
       "_model_name": "LayoutModel",
       "_view_count": null,
       "_view_module": "@jupyter-widgets/base",
       "_view_module_version": "1.2.0",
       "_view_name": "LayoutView",
       "align_content": null,
       "align_items": null,
       "align_self": null,
       "border": null,
       "bottom": null,
       "display": null,
       "flex": null,
       "flex_flow": null,
       "grid_area": null,
       "grid_auto_columns": null,
       "grid_auto_flow": null,
       "grid_auto_rows": null,
       "grid_column": null,
       "grid_gap": null,
       "grid_row": null,
       "grid_template_areas": null,
       "grid_template_columns": null,
       "grid_template_rows": null,
       "height": null,
       "justify_content": null,
       "justify_items": null,
       "left": null,
       "margin": null,
       "max_height": null,
       "max_width": null,
       "min_height": null,
       "min_width": null,
       "object_fit": null,
       "object_position": null,
       "order": null,
       "overflow": null,
       "overflow_x": null,
       "overflow_y": null,
       "padding": null,
       "right": null,
       "top": null,
       "visibility": null,
       "width": null
      }
     },
     "e667f9dfbcc0493b9152ab85804db070": {
      "model_module": "@jupyter-widgets/controls",
      "model_module_version": "1.5.0",
      "model_name": "DescriptionStyleModel",
      "state": {
       "_model_module": "@jupyter-widgets/controls",
       "_model_module_version": "1.5.0",
       "_model_name": "DescriptionStyleModel",
       "_view_count": null,
       "_view_module": "@jupyter-widgets/base",
       "_view_module_version": "1.2.0",
       "_view_name": "StyleView",
       "description_width": ""
      }
     },
     "ecd11f2fd0784d5c963a4cb4401b2d46": {
      "model_module": "@jupyter-widgets/base",
      "model_module_version": "1.2.0",
      "model_name": "LayoutModel",
      "state": {
       "_model_module": "@jupyter-widgets/base",
       "_model_module_version": "1.2.0",
       "_model_name": "LayoutModel",
       "_view_count": null,
       "_view_module": "@jupyter-widgets/base",
       "_view_module_version": "1.2.0",
       "_view_name": "LayoutView",
       "align_content": null,
       "align_items": null,
       "align_self": null,
       "border": null,
       "bottom": null,
       "display": null,
       "flex": null,
       "flex_flow": null,
       "grid_area": null,
       "grid_auto_columns": null,
       "grid_auto_flow": null,
       "grid_auto_rows": null,
       "grid_column": null,
       "grid_gap": null,
       "grid_row": null,
       "grid_template_areas": null,
       "grid_template_columns": null,
       "grid_template_rows": null,
       "height": null,
       "justify_content": null,
       "justify_items": null,
       "left": null,
       "margin": null,
       "max_height": null,
       "max_width": null,
       "min_height": null,
       "min_width": null,
       "object_fit": null,
       "object_position": null,
       "order": null,
       "overflow": null,
       "overflow_x": null,
       "overflow_y": null,
       "padding": null,
       "right": null,
       "top": null,
       "visibility": null,
       "width": null
      }
     }
    },
    "version_major": 2,
    "version_minor": 0
   }
  }
 },
 "nbformat": 4,
 "nbformat_minor": 4
}
